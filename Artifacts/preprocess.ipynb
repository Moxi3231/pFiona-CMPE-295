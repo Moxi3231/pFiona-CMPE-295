{
 "cells": [
  {
   "cell_type": "code",
   "execution_count": 20,
   "metadata": {},
   "outputs": [],
   "source": [
    "import pandas as pd\n",
    "import seaborn as sea\n",
    "from math import floor\n",
    "\n",
    "import matplotlib.pyplot as plt\n"
   ]
  },
  {
   "cell_type": "code",
   "execution_count": 2,
   "metadata": {},
   "outputs": [
    {
     "data": {
      "text/html": [
       "<div>\n",
       "<style scoped>\n",
       "    .dataframe tbody tr th:only-of-type {\n",
       "        vertical-align: middle;\n",
       "    }\n",
       "\n",
       "    .dataframe tbody tr th {\n",
       "        vertical-align: top;\n",
       "    }\n",
       "\n",
       "    .dataframe thead th {\n",
       "        text-align: right;\n",
       "    }\n",
       "</style>\n",
       "<table border=\"1\" class=\"dataframe\">\n",
       "  <thead>\n",
       "    <tr style=\"text-align: right;\">\n",
       "      <th></th>\n",
       "      <th>x</th>\n",
       "      <th>y</th>\n",
       "    </tr>\n",
       "  </thead>\n",
       "  <tbody>\n",
       "    <tr>\n",
       "      <th>count</th>\n",
       "      <td>126.000000</td>\n",
       "      <td>126.000000</td>\n",
       "    </tr>\n",
       "    <tr>\n",
       "      <th>mean</th>\n",
       "      <td>40.941732</td>\n",
       "      <td>13.151860</td>\n",
       "    </tr>\n",
       "    <tr>\n",
       "      <th>std</th>\n",
       "      <td>34.057769</td>\n",
       "      <td>1.194604</td>\n",
       "    </tr>\n",
       "    <tr>\n",
       "      <th>min</th>\n",
       "      <td>0.000000</td>\n",
       "      <td>10.091973</td>\n",
       "    </tr>\n",
       "    <tr>\n",
       "      <th>25%</th>\n",
       "      <td>4.601385</td>\n",
       "      <td>12.625109</td>\n",
       "    </tr>\n",
       "    <tr>\n",
       "      <th>50%</th>\n",
       "      <td>38.054367</td>\n",
       "      <td>13.591137</td>\n",
       "    </tr>\n",
       "    <tr>\n",
       "      <th>75%</th>\n",
       "      <td>72.889850</td>\n",
       "      <td>13.855212</td>\n",
       "    </tr>\n",
       "    <tr>\n",
       "      <th>max</th>\n",
       "      <td>99.914163</td>\n",
       "      <td>14.656291</td>\n",
       "    </tr>\n",
       "  </tbody>\n",
       "</table>\n",
       "</div>"
      ],
      "text/plain": [
       "                x           y\n",
       "count  126.000000  126.000000\n",
       "mean    40.941732   13.151860\n",
       "std     34.057769    1.194604\n",
       "min      0.000000   10.091973\n",
       "25%      4.601385   12.625109\n",
       "50%     38.054367   13.591137\n",
       "75%     72.889850   13.855212\n",
       "max     99.914163   14.656291"
      ]
     },
     "execution_count": 2,
     "metadata": {},
     "output_type": "execute_result"
    }
   ],
   "source": [
    "data = pd.read_csv('./plotData.csv')\n",
    "data.describe()"
   ]
  },
  {
   "cell_type": "code",
   "execution_count": 3,
   "metadata": {},
   "outputs": [
    {
     "data": {
      "text/plain": [
       "Index(['x', ' y'], dtype='object')"
      ]
     },
     "execution_count": 3,
     "metadata": {},
     "output_type": "execute_result"
    }
   ],
   "source": [
    "data.columns"
   ]
  },
  {
   "cell_type": "code",
   "execution_count": 4,
   "metadata": {},
   "outputs": [
    {
     "data": {
      "text/plain": [
       "<Axes: xlabel='x', ylabel=' y'>"
      ]
     },
     "execution_count": 4,
     "metadata": {},
     "output_type": "execute_result"
    },
    {
     "data": {
      "image/png": "[encoded data removed]",
      "text/plain": [
       "<Figure size 640x480 with 1 Axes>"
      ]
     },
     "metadata": {},
     "output_type": "display_data"
    }
   ],
   "source": [
    "sea.lineplot(data,x='x',y=' y')"
   ]
  },
  {
   "cell_type": "code",
   "execution_count": 5,
   "metadata": {},
   "outputs": [],
   "source": [
    "voltage_cap = [0]*100\n",
    "raw_data = []\n",
    "for charge, voltage in zip(data['x'], data[' y']):\n",
    "    raw_data.append([charge, voltage])\n",
    "raw_data.sort()"
   ]
  },
  {
   "cell_type": "code",
   "execution_count": 6,
   "metadata": {},
   "outputs": [],
   "source": [
    "for charge,voltage in raw_data:\n",
    "    voltage_cap[int(floor(charge))] = max(voltage_cap[int(floor(charge))], voltage)"
   ]
  },
  {
   "cell_type": "code",
   "execution_count": 7,
   "metadata": {},
   "outputs": [],
   "source": [
    "for i in range(len(voltage_cap)):\n",
    "    #if voltage_cap[i] == 0:\n",
    "        min_dist = 100\n",
    "        for charge, voltage in raw_data:\n",
    "            if abs(charge - i) < min_dist:\n",
    "                min_dist = abs(charge - i)\n",
    "                voltage_cap[i] = voltage\n",
    "        #voltage[i] = voltage[i-1]"
   ]
  },
  {
   "cell_type": "code",
   "execution_count": 8,
   "metadata": {},
   "outputs": [
    {
     "data": {
      "text/plain": [
       "61"
      ]
     },
     "execution_count": 8,
     "metadata": {},
     "output_type": "execute_result"
    }
   ],
   "source": [
    "len([13.3, 13.3117, 13.3233, 13.335, 13.3467, 13.3583, 13.37, 13.3817, 13.3933, 13.405, 13.4167, 13.4283, 13.44, 13.4517, 13.4633, 13.475, 13.4867, 13.4983, 13.51, 13.5217, 13.5333, 13.545, 13.5567, 13.5683, 13.58, 13.5917, 13.6033, 13.615, 13.6267, 13.6383, 13.65, 13.6617, 13.6733, 13.685, 13.6967, 13.7083, 13.72, 13.7317, 13.7433, 13.755, 13.7667, 13.7783, 13.79, 13.8017, 13.8133, 13.825, 13.8367, 13.8483, 13.86, 13.8717, 13.8833, 13.895, 13.9067, 13.9183, 13.93, 13.9417, 13.9533, 13.965, 13.9767, 13.9883, 14.0]\n",
    ")"
   ]
  },
  {
   "cell_type": "code",
   "execution_count": 9,
   "metadata": {},
   "outputs": [
    {
     "data": {
      "text/plain": [
       "65"
      ]
     },
     "execution_count": 9,
     "metadata": {},
     "output_type": "execute_result"
    }
   ],
   "source": [
    "len([13.3, 13.3108, 13.3215, 13.3323, 13.3431, 13.3538, 13.3646, 13.3754, 13.3862, 13.3969, 13.4185, 13.4292, 13.44, 13.4508, 13.4615, 13.4723, 13.4831, 13.4938, 13.5046, 13.5154, 13.5262, 13.5369, 13.5477, 13.5585, 13.5692, 13.58, 13.5908, 13.6015, 13.6123, 13.6231, 13.6338, 13.6446, 13.6554, 13.6662, 13.6769, 13.6877, 13.6985, 13.7092, 13.72, 13.7308, 13.7415, 13.7523, 13.7631, 13.7738, 13.7846, 13.7954, 13.8062, 13.8169, 13.8277, 13.8385, 13.8492, 13.86, 13.8708, 13.8815, 13.8923, 13.9031, 13.9138, 13.9246, 13.9354, 13.9462, 13.9569, 13.9677, 13.9785, 13.9892, 14.0]\n",
    ")"
   ]
  },
  {
   "cell_type": "code",
   "execution_count": 10,
   "metadata": {},
   "outputs": [
    {
     "data": {
      "text/plain": [
       "101"
      ]
     },
     "execution_count": 10,
     "metadata": {},
     "output_type": "execute_result"
    }
   ],
   "source": [
    "len([10.0, 11.222, 11.934, 12.391, 12.654, 12.776, 12.813, 12.86, 12.912, 12.961,\n",
    "                             13.005, 13.045, 13.089, 13.13, 13.166, 13.192, 13.216, 13.233, 13.253, 13.27,\n",
    "                             13.29, 13.3, 13.3108, 13.3215, 13.3323, 13.3431, 13.3538, 13.3646, 13.3754, \n",
    "                             13.3862, 13.3969, 13.4185, 13.4292, 13.44, 13.4508, 13.4615, 13.4723, 13.4831, \n",
    "                             13.4938, 13.5046, 13.5154, 13.5262, 13.5369, 13.5477, 13.5585, 13.5692, 13.58, \n",
    "                             13.5908, 13.6015, 13.6123, 13.6231, 13.6338, 13.6446, 13.6554, 13.6662, 13.6769, \n",
    "                             13.6877, 13.6985, 13.7092, 13.72, 13.7308, 13.7415, 13.7523, 13.7631, 13.7738, 13.7846, \n",
    "                             13.7954, 13.8062, 13.8169, 13.8277, 13.8385, 13.8492, 13.86, 13.8708, 13.8815, 13.8923, \n",
    "                             13.9031, 13.9138, 13.9246, 13.9354, 13.9462, 13.9569, 13.9677, 13.9785, 13.9892, 14.0,\n",
    "                             14.152, 14.231, 14.311, 14.383, 14.434,\n",
    "                             14.473, 14.497, 14.507, 14.51, 14.521, 14.535, 14.554, 14.578, 14.611, 14.653 ])"
   ]
  },
  {
   "cell_type": "code",
   "execution_count": 11,
   "metadata": {},
   "outputs": [
    {
     "data": {
      "text/plain": [
       "103"
      ]
     },
     "execution_count": 11,
     "metadata": {},
     "output_type": "execute_result"
    }
   ],
   "source": [
    "len([10.0, 11.222, 11.934, 12.391, 12.654, 12.776, 12.813, 12.86, 12.912, 12.961,\n",
    "                             13.005, 13.045, 13.089, 13.13, 13.166, 13.192, 13.216, 13.233, 13.253, 13.27,\n",
    "                             13.3, 13.3108, 13.3215, 13.3323, 13.3431, 13.3538, 13.3646, 13.3754, 13.3862, \n",
    "                             13.3969, 13.4077, 13.4185, 13.4292, 13.44, 13.4508, 13.4615, 13.4723, 13.4831, \n",
    "                             13.4938, 13.5046, 13.5154, 13.5262, 13.5369, 13.5477, 13.5585, 13.5692, 13.58, \n",
    "                             13.5908, 13.6015, 13.6123, 13.6231, 13.6338, 13.6446, 13.6554, 13.6662, 13.6769, \n",
    "                             13.6877, 13.6985, 13.7092, 13.72, 13.7308, 13.7415, 13.7523, 13.7631, 13.7738, \n",
    "                             13.7846, 13.7954, 13.8062, 13.8169, 13.8277, 13.8385, 13.8492, 13.86, 13.8708, \n",
    "                             13.8815, 13.8923, 13.9031, 13.9138, 13.9246, 13.9354, 13.9462, 13.9569, 13.9677, \n",
    "                             13.9785, 13.9892, 14.0, 14.025, 14.08, 14.152, 14.231, 14.311, 14.383, 14.434,\n",
    "                             14.473, 14.497, 14.507, 14.51, 14.521, 14.535, 14.554, 14.578, 14.611, 14.653] )"
   ]
  },
  {
   "cell_type": "code",
   "execution_count": 15,
   "metadata": {},
   "outputs": [],
   "source": [
    "charge_to_voltage = [\n",
    "    10.0, 10.22, 10.44, 10.67, 10.89, 11.11, 11.33, 11.56, 11.78, 12.0,\n",
    "                             12.1, 12.2, 12.3, 12.4, 12.5, 12.6, 12.7, 12.8, 12.83, 12.87,\n",
    "                             12.9, 12.91, 12.92, 12.93, 12.94, 12.95, 12.96, 12.97, 12.98, 12.99,\n",
    "                             13.0, 13.01, 13.02, 13.03, 13.04, 13.05, 13.06, 13.07, 13.08, 13.09,\n",
    "                             13.1, 13.11, 13.12, 13.13, 13.14, 13.15, 13.16, 13.17, 13.18, 13.19,\n",
    "                             13.2, 13.21, 13.22, 13.23, 13.24, 13.25, 13.26, 13.27, 13.28, 13.29,\n",
    "                             13.3, 13.31, 13.32, 13.33, 13.35, 13.36, 13.37, 13.38, 13.39,\n",
    "                             13.4, 13.41, 13.43, 13.44, 13.45, 13.46, 13.47, 13.48, 13.49,\n",
    "                             13.5, 13.51, 13.52, 13.53, 13.54, 13.56, 13.57, 13.59,\n",
    "                             13.6, 13.64, 13.68, 13.72, 13.76, 13.8, 13.84, 13.88, 13.92, 13.96,\n",
    "                             14.0, 14.15, 14.3, 14.45, 14.65\n",
    "]"
   ]
  },
  {
   "cell_type": "code",
   "execution_count": 16,
   "metadata": {},
   "outputs": [
    {
     "data": {
      "text/plain": [
       "101"
      ]
     },
     "execution_count": 16,
     "metadata": {},
     "output_type": "execute_result"
    }
   ],
   "source": [
    "len(charge_to_voltage)"
   ]
  },
  {
   "cell_type": "code",
   "execution_count": 22,
   "metadata": {},
   "outputs": [
    {
     "data": {
      "text/plain": [
       "Text(0, 0.5, 'Voltage (V)')"
      ]
     },
     "execution_count": 22,
     "metadata": {},
     "output_type": "execute_result"
    },
    {
     "data": {
      "image/png": "[encoded data removed]",
      "text/plain": [
       "<Figure size 640x480 with 1 Axes>"
      ]
     },
     "metadata": {},
     "output_type": "display_data"
    }
   ],
   "source": [
    "sea.lineplot(data,x='x',y=' y', color=\"#000000\", label='Original Battery Voltage vs Capacity')\n",
    "sea.scatterplot(x=[i for i in range(1,101)],y=voltage_cap, color='#FF7276', label='Battery Voltage vs Capacity (Smoothed)')\n",
    "sea.lineplot(x=[i for i in range(101)],y=charge_to_voltage, label='Battery Voltage vs Capacity (Linear Mapping)')\n",
    "plt.xlabel('Capacity')\n",
    "plt.ylabel('Voltage (V)')\n"
   ]
  },
  {
   "cell_type": "code",
   "execution_count": 9,
   "metadata": {},
   "outputs": [],
   "source": [
    "with open('chargeCap.txt','w') as wp:\n",
    "    wp.write(\", \".join([str(voltage) for voltage in voltage_cap]))"
   ]
  },
  {
   "cell_type": "code",
   "execution_count": 10,
   "metadata": {},
   "outputs": [
    {
     "data": {
      "text/html": [
       "<div>\n",
       "<style scoped>\n",
       "    .dataframe tbody tr th:only-of-type {\n",
       "        vertical-align: middle;\n",
       "    }\n",
       "\n",
       "    .dataframe tbody tr th {\n",
       "        vertical-align: top;\n",
       "    }\n",
       "\n",
       "    .dataframe thead th {\n",
       "        text-align: right;\n",
       "    }\n",
       "</style>\n",
       "<table border=\"1\" class=\"dataframe\">\n",
       "  <thead>\n",
       "    <tr style=\"text-align: right;\">\n",
       "      <th></th>\n",
       "      <th>x</th>\n",
       "      <th>y</th>\n",
       "    </tr>\n",
       "  </thead>\n",
       "  <tbody>\n",
       "    <tr>\n",
       "      <th>0</th>\n",
       "      <td>0.000000</td>\n",
       "      <td>10.091973</td>\n",
       "    </tr>\n",
       "    <tr>\n",
       "      <th>1</th>\n",
       "      <td>0.000000</td>\n",
       "      <td>10.183946</td>\n",
       "    </tr>\n",
       "    <tr>\n",
       "      <th>2</th>\n",
       "      <td>0.171674</td>\n",
       "      <td>10.267559</td>\n",
       "    </tr>\n",
       "    <tr>\n",
       "      <th>3</th>\n",
       "      <td>0.000000</td>\n",
       "      <td>10.359532</td>\n",
       "    </tr>\n",
       "    <tr>\n",
       "      <th>4</th>\n",
       "      <td>0.171674</td>\n",
       "      <td>10.443144</td>\n",
       "    </tr>\n",
       "    <tr>\n",
       "      <th>...</th>\n",
       "      <td>...</td>\n",
       "      <td>...</td>\n",
       "    </tr>\n",
       "    <tr>\n",
       "      <th>121</th>\n",
       "      <td>94.363380</td>\n",
       "      <td>14.653191</td>\n",
       "    </tr>\n",
       "    <tr>\n",
       "      <th>122</th>\n",
       "      <td>95.393423</td>\n",
       "      <td>14.654191</td>\n",
       "    </tr>\n",
       "    <tr>\n",
       "      <th>123</th>\n",
       "      <td>96.080118</td>\n",
       "      <td>14.655191</td>\n",
       "    </tr>\n",
       "    <tr>\n",
       "      <th>124</th>\n",
       "      <td>97.281835</td>\n",
       "      <td>14.656191</td>\n",
       "    </tr>\n",
       "    <tr>\n",
       "      <th>125</th>\n",
       "      <td>98.140204</td>\n",
       "      <td>14.656291</td>\n",
       "    </tr>\n",
       "  </tbody>\n",
       "</table>\n",
       "<p>126 rows × 2 columns</p>\n",
       "</div>"
      ],
      "text/plain": [
       "             x          y\n",
       "0     0.000000  10.091973\n",
       "1     0.000000  10.183946\n",
       "2     0.171674  10.267559\n",
       "3     0.000000  10.359532\n",
       "4     0.171674  10.443144\n",
       "..         ...        ...\n",
       "121  94.363380  14.653191\n",
       "122  95.393423  14.654191\n",
       "123  96.080118  14.655191\n",
       "124  97.281835  14.656191\n",
       "125  98.140204  14.656291\n",
       "\n",
       "[126 rows x 2 columns]"
      ]
     },
     "execution_count": 10,
     "metadata": {},
     "output_type": "execute_result"
    }
   ],
   "source": [
    "data"
   ]
  },
  {
   "cell_type": "code",
   "execution_count": null,
   "metadata": {},
   "outputs": [],
   "source": [
    "### Charging Time\n",
    "## Ideal Charge Voltage: 14.6 V\n",
    "# Volt (V)                 Time\n",
    "## 10.0 - 12.6          25 Minutes\n",
    "## 12.6 - 13.5          5 Minutes\n",
    "## 13.5 - 14.0          90 Minutes\n",
    "## 14.0 - 14.5          20 Minutes\n",
    "## 14.5 - 14.65         15 Minutes"
   ]
  },
  {
   "cell_type": "code",
   "execution_count": 38,
   "metadata": {},
   "outputs": [
    {
     "data": {
      "text/plain": [
       "100"
      ]
     },
     "execution_count": 38,
     "metadata": {},
     "output_type": "execute_result"
    }
   ],
   "source": [
    "arr = [10.0, 11.222, 11.934, 12.391, 12.654, 12.776, 12.813, 12.86, 12.912, 12.961, 13.005, 13.045, 13.089, 13.13, 13.166, 13.192, 13.216, 13.233, 13.253, 13.27, 13.29, 13.307, 13.327, 13.349, 13.373, 13.396, 13.415, 13.432, 13.449, 13.463, 13.478, 13.493, 13.507, 13.523, 13.537, 13.552, 13.566, 13.578, 13.587, 13.597, 13.608, 13.619, 13.63, 13.639, 13.647, 13.657, 13.667, 13.678, 13.686, 13.691, 13.698, 13.704, 13.709, 13.712, 13.714, 13.717, 13.718, 13.72, 13.725, 13.732, 13.742, 13.753, 13.765, 13.773, 13.782, 13.789, 13.793, 13.798, 13.805, 13.815, 13.826, 13.836, 13.845, 13.855, 13.866, 13.877, 13.888, 13.902, 13.92, 13.93, 13.944, 13.963, 13.99, 14.025, 14.08, 14.152, 14.231, 14.311, 14.383, 14.434, 14.473, 14.497, 14.507, 14.51, 14.521, 14.535, 14.554, 14.578, 14.611, 14.653]\n",
    "len(arr)"
   ]
  },
  {
   "cell_type": "code",
   "execution_count": 39,
   "metadata": {},
   "outputs": [
    {
     "data": {
      "text/plain": [
       "<Axes: >"
      ]
     },
     "execution_count": 39,
     "metadata": {},
     "output_type": "execute_result"
    },
    {
     "data": {
      "image/png": "[encoded data removed]",
      "text/plain": [
       "<Figure size 640x480 with 1 Axes>"
      ]
     },
     "metadata": {},
     "output_type": "display_data"
    }
   ],
   "source": [
    "sea.lineplot(x=[i for i in range(100)],y=arr)"
   ]
  },
  {
   "cell_type": "code",
   "execution_count": 41,
   "metadata": {},
   "outputs": [
    {
     "name": "stdout",
     "output_type": "stream",
     "text": [
      "1.0029999999999983\n",
      "0.7050000000000001\n",
      "0.45700000000000074\n",
      "0.2629999999999999\n",
      "0.12199999999999989\n",
      "0.03700000000000081\n",
      "0.04699999999999882\n",
      "0.05200000000000138\n",
      "0.04899999999999949\n",
      "0.04400000000000048\n",
      "0.03999999999999915\n",
      "0.04400000000000048\n",
      "0.04100000000000037\n",
      "0.03599999999999959\n",
      "0.0259999999999998\n",
      "0.023999999999999133\n",
      "0.017000000000001236\n",
      "0.019999999999999574\n",
      "0.01699999999999946\n",
      "0.019999999999999574\n",
      "0.017000000000001236\n",
      "0.019999999999999574\n",
      "0.02200000000000024\n",
      "0.023999999999999133\n",
      "0.023000000000001464\n",
      "0.01899999999999835\n",
      "0.017000000000001236\n",
      "0.01699999999999946\n",
      "0.013999999999999346\n",
      "0.015000000000000568\n",
      "0.015000000000000568\n",
      "0.013999999999999346\n",
      "0.016000000000000014\n",
      "0.014000000000001123\n",
      "0.014999999999998792\n",
      "0.014000000000001123\n",
      "0.011999999999998678\n",
      "0.009000000000000341\n",
      "0.009999999999999787\n",
      "0.011000000000001009\n",
      "0.010999999999999233\n",
      "0.011000000000001009\n",
      "0.008999999999998565\n",
      "0.008000000000000895\n",
      "0.009999999999999787\n",
      "0.009999999999999787\n",
      "0.011000000000001009\n",
      "0.007999999999999119\n",
      "0.005000000000000782\n",
      "0.006999999999999673\n",
      "0.006000000000000227\n",
      "0.004999999999999005\n",
      "0.0030000000000001137\n",
      "0.002000000000000668\n",
      "0.0030000000000001137\n",
      "0.0009999999999994458\n",
      "0.002000000000000668\n",
      "0.004999999999999005\n",
      "0.006999999999999673\n",
      "0.010000000000001563\n",
      "0.010999999999999233\n",
      "0.012000000000000455\n",
      "0.007999999999999119\n",
      "0.009000000000000341\n",
      "0.006999999999999673\n",
      "0.0039999999999995595\n",
      "0.005000000000000782\n",
      "0.006999999999999673\n",
      "0.009999999999999787\n",
      "0.011000000000001009\n",
      "0.009999999999999787\n",
      "0.009000000000000341\n",
      "0.009999999999999787\n",
      "0.010999999999999233\n",
      "0.011000000000001009\n",
      "0.010999999999999233\n",
      "0.013999999999999346\n",
      "0.018000000000000682\n",
      "0.009999999999999787\n",
      "0.014000000000001123\n",
      "0.01899999999999835\n",
      "0.027000000000001023\n",
      "0.03500000000000014\n",
      "0.054999999999999716\n",
      "0.07199999999999918\n",
      "0.07900000000000063\n",
      "0.08000000000000007\n",
      "0.07199999999999918\n",
      "0.051000000000000156\n",
      "0.03900000000000148\n",
      "0.023999999999999133\n",
      "0.009999999999999787\n",
      "0.0030000000000001137\n",
      "0.011000000000001009\n",
      "0.013999999999999346\n",
      "0.019000000000000128\n",
      "0.023999999999999133\n",
      "0.03300000000000125\n",
      "0.041999999999999815\n"
     ]
    }
   ],
   "source": [
    "for i in range(1,100):\n",
    "    print(arr[i] - arr[i-1])"
   ]
  },
  {
   "cell_type": "code",
   "execution_count": 27,
   "metadata": {},
   "outputs": [],
   "source": [
    "charge_to_voltage = [\n",
    "    10.0, 10.22, 10.44, 10.67, 10.89, 11.11, 11.33, 11.56, 11.78, 12.0, \n",
    "    12.1, 12.2, 12.3, 12.4, 12.5, 12.6, 12.7, 12.8, 12.83, 12.87, \n",
    "    12.9, 12.91, 12.92, 12.93, 12.94, 12.95, 12.96, 12.97, 12.98, 12.99, \n",
    "    13.0, 13.01, 13.02, 13.03, 13.04, 13.05, 13.06, 13.07, 13.08, 13.09, \n",
    "    13.1, 13.11, 13.12, 13.13, 13.14, 13.15, 13.16, 13.17, 13.18, 13.19, \n",
    "    13.2, 13.21, 13.22, 13.23, 13.24, 13.25, 13.26, 13.27, 13.28, 13.29, \n",
    "    13.3, 13.31, 13.32, 13.33, 13.35, 13.36, 13.37, 13.38, 13.39, \n",
    "    13.4, 13.41, 13.43, 13.44, 13.45, 13.46, 13.47, 13.48, 13.49, \n",
    "    13.5, 13.51, 13.52, 13.53, 13.54, 13.56, 13.57, 13.59, \n",
    "    13.6, 13.64, 13.68, 13.72, 13.76, 13.8, 13.84, 13.88, 13.92, 13.96, \n",
    "    14.0, 14.15, 14.3, 14.45, 14.6\n",
    "]"
   ]
  },
  {
   "cell_type": "code",
   "execution_count": 28,
   "metadata": {},
   "outputs": [
    {
     "data": {
      "text/plain": [
       "101"
      ]
     },
     "execution_count": 28,
     "metadata": {},
     "output_type": "execute_result"
    }
   ],
   "source": [
    "len(charge_to_voltage)"
   ]
  },
  {
   "cell_type": "code",
   "execution_count": 18,
   "metadata": {},
   "outputs": [],
   "source": [
    "charge_to_voltage = [\n",
    "    10.0, 10.22, 10.44, 10.67, 10.89, 11.11, 11.33, 11.56, 11.78, 12.0, \n",
    "    12.1, 12.2, 12.3, 12.4, 12.5, 12.6, 12.7, 12.8, 12.83, 12.87, \n",
    "    12.9, 12.91, 12.92, 12.93, 12.94, 12.95, 12.96, 12.97, 12.98, 12.99, \n",
    "    13.0, 13.01, 13.02, 13.03, 13.04, 13.05, 13.06, 13.07, 13.08, 13.09, \n",
    "    13.1, 13.10, 13.11, 13.11, 13.12, 13.12, 13.12, 13.13, 13.13, 13.13, \n",
    "    13.14, 13.14, 13.14, 13.14, 13.15, 13.15, 13.15, 13.15, 13.16, 13.16, \n",
    "    13.17, 13.17, 13.17, 13.18, 13.18, 13.18, 13.18, 13.19, 13.19, 13.19, \n",
    "    13.2, 13.21, 13.22, 13.23, 13.24, 13.25, 13.26, 13.27, 13.28, 13.29, \n",
    "    13.3, 13.33, 13.37, 13.4, 13.45, 13.5, 13.55, 13.6, 13.93, 14.27, \n",
    "    14.6\n",
    "]\n"
   ]
  },
  {
   "cell_type": "code",
   "execution_count": 25,
   "metadata": {},
   "outputs": [
    {
     "data": {
      "text/plain": [
       "101"
      ]
     },
     "execution_count": 25,
     "metadata": {},
     "output_type": "execute_result"
    }
   ],
   "source": [
    "len([10.068, 11.136, 11.893, 12.392, 12.684, 12.824, 12.877, 12.91, 12.934, 12.963,\n",
    "                             13.004, 13.049, 13.091, 13.128, 13.161, 13.19, 13.215, 13.237, 13.255, 13.271,\n",
    "                             13.286, 13.299, 13.312, 13.323, 13.333, 13.343, 13.353, 13.364, 13.376, 13.388,\n",
    "                             13.401, 13.414, 13.427, 13.44, 13.451, 13.462, 13.472, 13.483, 13.494, 13.505,\n",
    "                             13.515, 13.526, 13.537, 13.548, 13.558, 13.569, 13.58, 13.591, 13.602, 13.612,\n",
    "                             13.623, 13.634, 13.645, 13.655, 13.666, 13.677, 13.688, 13.698, 13.709, 13.72,\n",
    "                             13.731, 13.742, 13.752, 13.763, 13.774, 13.785, 13.795, 13.806, 13.817, 13.828,\n",
    "                             13.838, 13.849, 13.86, 13.871, 13.882, 13.892, 13.903, 13.914, 13.925, 13.935,\n",
    "                             13.946, 13.949, 13.956, 13.971, 13.999, 14.043, 14.105, 14.186, 14.273, 14.358,\n",
    "                             14.429, 14.477, 14.51, 14.528, 14.536, 14.541, 14.551, 14.564, 14.585, 14.615,\n",
    "                             14.658 ])"
   ]
  },
  {
   "cell_type": "code",
   "execution_count": null,
   "metadata": {},
   "outputs": [],
   "source": []
  }
 ],
 "metadata": {
  "kernelspec": {
   "display_name": "base",
   "language": "python",
   "name": "python3"
  },
  "language_info": {
   "codemirror_mode": {
    "name": "ipython",
    "version": 3
   },
   "file_extension": ".py",
   "mimetype": "text/x-python",
   "name": "python",
   "nbconvert_exporter": "python",
   "pygments_lexer": "ipython3",
   "version": "3.11.5"
  }
 },
 "nbformat": 4,
 "nbformat_minor": 2
}
